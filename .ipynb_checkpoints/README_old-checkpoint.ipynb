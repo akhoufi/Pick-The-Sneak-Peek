{
 "cells": [
  {
   "cell_type": "markdown",
   "metadata": {},
   "source": [
    "#<a href=\"http://www.datascience-paris-saclay.fr\">Paris Saclay Center for Data Science (CDS)</a>\n",
    "#Test <a href=http://www.ramp.studio/events/iris_test>RAMP on iris</a> \n",
    "\n",
    "<i> Adapted for Chalab by Isabelle Guyon from original code of Balázs Kégl (LAL/CNRS)</i>\n",
    "\n",
    "ALL INFORMATION, SOFTWARE, DOCUMENTATION, AND DATA ARE PROVIDED \"AS-IS\". The CDS, CHALEARN, AND/OR OTHER ORGANIZERS OR CODE AUTHORS DISCLAIM ANY EXPRESSED OR IMPLIED WARRANTIES, INCLUDING, BUT NOT LIMITED TO, THE IMPLIED WARRANTIES OF MERCHANTABILITY AND FITNESS FOR ANY PARTICULAR PURPOSE, AND THE WARRANTY OF NON-INFRIGEMENT OF ANY THIRD PARTY'S INTELLECTUAL PROPERTY RIGHTS. IN NO EVENT SHALL AUTHORS AND ORGANIZERS BE LIABLE FOR ANY SPECIAL, \n",
    "INDIRECT OR CONSEQUENTIAL DAMAGES OR ANY DAMAGES WHATSOEVER ARISING OUT OF OR IN CONNECTION WITH THE USE OR PERFORMANCE OF SOFTWARE, DOCUMENTS, MATERIALS, PUBLICATIONS, OR INFORMATION MADE AVAILABLE FOR THE CHALLENGE. "
   ]
  },
  {
   "cell_type": "markdown",
   "metadata": {},
   "source": [
    "## Introduction\n",
    "\n",
    "Starting kit for the challenge Pick The Sneak Peek. This challenge consists in finding the types of some movies based on their summary."
   ]
  },
  {
   "cell_type": "code",
   "execution_count": 8,
   "metadata": {
    "collapsed": false
   },
   "outputs": [],
   "source": [
    "codedir = 'sample_code/'                        # Change this to the directory where you put the code\n",
    "from sys import path; path.append(codedir)\n",
    "%matplotlib inline\n",
    "import pandas as pd\n",
    "import numpy as np"
   ]
  },
  {
   "cell_type": "markdown",
   "metadata": {},
   "source": [
    "## Fetch the data and load it"
   ]
  },
  {
   "cell_type": "code",
   "execution_count": 2,
   "metadata": {
    "collapsed": false
   },
   "outputs": [
    {
     "name": "stdout",
     "output_type": "stream",
     "text": [
      "input_data_1_2/movies_feat.name      input_data_1_2/movies_train.data\r\n",
      "input_data_1_2/movies_label.name     input_data_1_2/movies_train.solution\r\n",
      "input_data_1_2/movies_test.data      input_data_1_2/movies_valid.data\r\n"
     ]
    }
   ],
   "source": [
    "datadir = 'input_data_1_2/'                        # Change this to the directory where you put the input data\n",
    "dataname = 'movies'\n",
    "basename = datadir  + dataname\n",
    "!ls $basename*"
   ]
  },
  {
   "cell_type": "code",
   "execution_count": 3,
   "metadata": {
    "collapsed": false
   },
   "outputs": [
    {
     "name": "stdout",
     "output_type": "stream",
     "text": [
      "Info file NOT found : /Users/guillaumelorre/Desktop/starting_kit/input_data_1_2/movies_public.info\n",
      "Reading /Users/guillaumelorre/Desktop/starting_kit/input_data_1_2/movies_train.data...\n",
      "Converting {} to correct array\n",
      "Converting /Users/guillaumelorre/Desktop/starting_kit/input_data_1_2/movies_train.data to sparse list\n",
      "Reading /Users/guillaumelorre/Desktop/starting_kit/input_data_1_2/movies_test.data...\n",
      "Converting {} to correct array\n",
      "Converting /Users/guillaumelorre/Desktop/starting_kit/input_data_1_2/movies_test.data to sparse list\n",
      "Reading /Users/guillaumelorre/Desktop/starting_kit/input_data_1_2/movies_valid.data...\n",
      "Converting {} to correct array\n",
      "Converting /Users/guillaumelorre/Desktop/starting_kit/input_data_1_2/movies_valid.data to sparse list\n",
      "Reading /Users/guillaumelorre/Desktop/starting_kit/input_data_1_2/movies_train.data...\n",
      "Converting {} to correct array\n",
      "Converting /Users/guillaumelorre/Desktop/starting_kit/input_data_1_2/movies_train.data to sparse list\n",
      "\tConverting sparse list to dok sparse matrix\n",
      "\tConverting dok sparse matrix to csr sparse matrix\n",
      "Reading /Users/guillaumelorre/Desktop/starting_kit/input_data_1_2/movies_valid.data...\n",
      "Converting {} to correct array\n",
      "Converting /Users/guillaumelorre/Desktop/starting_kit/input_data_1_2/movies_valid.data to sparse list\n",
      "\tConverting sparse list to dok sparse matrix\n",
      "\tConverting dok sparse matrix to csr sparse matrix\n",
      "Reading /Users/guillaumelorre/Desktop/starting_kit/input_data_1_2/movies_test.data...\n",
      "Converting {} to correct array\n",
      "Converting /Users/guillaumelorre/Desktop/starting_kit/input_data_1_2/movies_test.data to sparse list\n",
      "\tConverting sparse list to dok sparse matrix\n",
      "\tConverting dok sparse matrix to csr sparse matrix\n"
     ]
    }
   ],
   "source": [
    "# Lecture des dataset\n",
    "import os\n",
    "from sys import argv, path\n",
    "run_dir = os.path.abspath(\".\")\n",
    "lib_dir = os.path.join(run_dir, \"sample_code\")\n",
    "res_dir = os.path.join(run_dir, \"res\")\n",
    "path.append (run_dir)\n",
    "path.append (lib_dir)\n",
    "import data_io                      \n",
    "from data_io import vprint           \n",
    "from data_manager import DataManager \n",
    "import data_io                      \n",
    "from data_io import vprint           \n",
    "from data_manager import DataManager \n",
    "from data_io import vprint           \n",
    "from data_manager import DataManager \n",
    "from classifier import Classifier     \n",
    "\n",
    "max_samples = 50000\n",
    "\n",
    "root_dir = \"/Users/guillaumelorre/Desktop/starting_kit/\" # Changer le path\n",
    "default_input_dir = root_dir + \"input_data_1_2/\"\n",
    "default_output_dir = root_dir + \"scoring_input_1_2/res\"\n",
    "\n",
    "input_dir = default_input_dir\n",
    "output_dir = default_output_dir\n",
    "\n",
    "datanames = data_io.inventory_data(input_dir)\n",
    "\n",
    "for basename in datanames:\n",
    "    D = DataManager(basename, input_dir, replace_missing=True, filter_features=True, max_samples=max_samples)\n"
   ]
  },
  {
   "cell_type": "code",
   "execution_count": 14,
   "metadata": {
    "collapsed": false
   },
   "outputs": [
    {
     "name": "stdout",
     "output_type": "stream",
     "text": [
      "Proportion des labels : \n",
      "[ 0.58428146  0.20097401  0.17901675  0.07359671  0.15013225  0.06410848\n",
      "  0.08048197  0.06247114  0.19694362  0.06876863  0.20311516  0.04727319\n",
      "  0.03006004  0.0937067 ]\n"
     ]
    },
    {
     "data": {
      "text/html": [
       "<div>\n",
       "<table border=\"1\" class=\"dataframe\">\n",
       "  <thead>\n",
       "    <tr style=\"text-align: right;\">\n",
       "      <th></th>\n",
       "      <th>0</th>\n",
       "      <th>1</th>\n",
       "      <th>2</th>\n",
       "      <th>3</th>\n",
       "      <th>4</th>\n",
       "      <th>5</th>\n",
       "      <th>6</th>\n",
       "      <th>7</th>\n",
       "      <th>8</th>\n",
       "      <th>9</th>\n",
       "      <th>...</th>\n",
       "      <th>102582</th>\n",
       "      <th>102583</th>\n",
       "      <th>102584</th>\n",
       "      <th>102585</th>\n",
       "      <th>102586</th>\n",
       "      <th>102587</th>\n",
       "      <th>102588</th>\n",
       "      <th>102589</th>\n",
       "      <th>102590</th>\n",
       "      <th>102591</th>\n",
       "    </tr>\n",
       "  </thead>\n",
       "  <tbody>\n",
       "    <tr>\n",
       "      <th>0</th>\n",
       "      <td>0.00000</td>\n",
       "      <td>0.0</td>\n",
       "      <td>0.0</td>\n",
       "      <td>0.0</td>\n",
       "      <td>0.0</td>\n",
       "      <td>0.0</td>\n",
       "      <td>0.0</td>\n",
       "      <td>0.0</td>\n",
       "      <td>0.0</td>\n",
       "      <td>0.0</td>\n",
       "      <td>...</td>\n",
       "      <td>0.0</td>\n",
       "      <td>0.0</td>\n",
       "      <td>0.0</td>\n",
       "      <td>0.0</td>\n",
       "      <td>0.0</td>\n",
       "      <td>0.0</td>\n",
       "      <td>0.0</td>\n",
       "      <td>0.0</td>\n",
       "      <td>0.0</td>\n",
       "      <td>0.0</td>\n",
       "    </tr>\n",
       "    <tr>\n",
       "      <th>1</th>\n",
       "      <td>0.00000</td>\n",
       "      <td>0.0</td>\n",
       "      <td>0.0</td>\n",
       "      <td>0.0</td>\n",
       "      <td>0.0</td>\n",
       "      <td>0.0</td>\n",
       "      <td>0.0</td>\n",
       "      <td>0.0</td>\n",
       "      <td>0.0</td>\n",
       "      <td>0.0</td>\n",
       "      <td>...</td>\n",
       "      <td>0.0</td>\n",
       "      <td>0.0</td>\n",
       "      <td>0.0</td>\n",
       "      <td>0.0</td>\n",
       "      <td>0.0</td>\n",
       "      <td>0.0</td>\n",
       "      <td>0.0</td>\n",
       "      <td>0.0</td>\n",
       "      <td>0.0</td>\n",
       "      <td>0.0</td>\n",
       "    </tr>\n",
       "    <tr>\n",
       "      <th>2</th>\n",
       "      <td>0.00000</td>\n",
       "      <td>0.0</td>\n",
       "      <td>0.0</td>\n",
       "      <td>0.0</td>\n",
       "      <td>0.0</td>\n",
       "      <td>0.0</td>\n",
       "      <td>0.0</td>\n",
       "      <td>0.0</td>\n",
       "      <td>0.0</td>\n",
       "      <td>0.0</td>\n",
       "      <td>...</td>\n",
       "      <td>0.0</td>\n",
       "      <td>0.0</td>\n",
       "      <td>0.0</td>\n",
       "      <td>0.0</td>\n",
       "      <td>0.0</td>\n",
       "      <td>0.0</td>\n",
       "      <td>0.0</td>\n",
       "      <td>0.0</td>\n",
       "      <td>0.0</td>\n",
       "      <td>0.0</td>\n",
       "    </tr>\n",
       "    <tr>\n",
       "      <th>3</th>\n",
       "      <td>0.00000</td>\n",
       "      <td>0.0</td>\n",
       "      <td>0.0</td>\n",
       "      <td>0.0</td>\n",
       "      <td>0.0</td>\n",
       "      <td>0.0</td>\n",
       "      <td>0.0</td>\n",
       "      <td>0.0</td>\n",
       "      <td>0.0</td>\n",
       "      <td>0.0</td>\n",
       "      <td>...</td>\n",
       "      <td>0.0</td>\n",
       "      <td>0.0</td>\n",
       "      <td>0.0</td>\n",
       "      <td>0.0</td>\n",
       "      <td>0.0</td>\n",
       "      <td>0.0</td>\n",
       "      <td>0.0</td>\n",
       "      <td>0.0</td>\n",
       "      <td>0.0</td>\n",
       "      <td>0.0</td>\n",
       "    </tr>\n",
       "    <tr>\n",
       "      <th>4</th>\n",
       "      <td>0.02623</td>\n",
       "      <td>0.0</td>\n",
       "      <td>0.0</td>\n",
       "      <td>0.0</td>\n",
       "      <td>0.0</td>\n",
       "      <td>0.0</td>\n",
       "      <td>0.0</td>\n",
       "      <td>0.0</td>\n",
       "      <td>0.0</td>\n",
       "      <td>0.0</td>\n",
       "      <td>...</td>\n",
       "      <td>0.0</td>\n",
       "      <td>0.0</td>\n",
       "      <td>0.0</td>\n",
       "      <td>0.0</td>\n",
       "      <td>0.0</td>\n",
       "      <td>0.0</td>\n",
       "      <td>0.0</td>\n",
       "      <td>0.0</td>\n",
       "      <td>0.0</td>\n",
       "      <td>0.0</td>\n",
       "    </tr>\n",
       "  </tbody>\n",
       "</table>\n",
       "<p>5 rows × 102592 columns</p>\n",
       "</div>"
      ],
      "text/plain": [
       "    0       1       2       3       4       5       6       7       8       \\\n",
       "0  0.00000     0.0     0.0     0.0     0.0     0.0     0.0     0.0     0.0   \n",
       "1  0.00000     0.0     0.0     0.0     0.0     0.0     0.0     0.0     0.0   \n",
       "2  0.00000     0.0     0.0     0.0     0.0     0.0     0.0     0.0     0.0   \n",
       "3  0.00000     0.0     0.0     0.0     0.0     0.0     0.0     0.0     0.0   \n",
       "4  0.02623     0.0     0.0     0.0     0.0     0.0     0.0     0.0     0.0   \n",
       "\n",
       "   9        ...    102582  102583  102584  102585  102586  102587  102588  \\\n",
       "0     0.0   ...       0.0     0.0     0.0     0.0     0.0     0.0     0.0   \n",
       "1     0.0   ...       0.0     0.0     0.0     0.0     0.0     0.0     0.0   \n",
       "2     0.0   ...       0.0     0.0     0.0     0.0     0.0     0.0     0.0   \n",
       "3     0.0   ...       0.0     0.0     0.0     0.0     0.0     0.0     0.0   \n",
       "4     0.0   ...       0.0     0.0     0.0     0.0     0.0     0.0     0.0   \n",
       "\n",
       "   102589  102590  102591  \n",
       "0     0.0     0.0     0.0  \n",
       "1     0.0     0.0     0.0  \n",
       "2     0.0     0.0     0.0  \n",
       "3     0.0     0.0     0.0  \n",
       "4     0.0     0.0     0.0  \n",
       "\n",
       "[5 rows x 102592 columns]"
      ]
     },
     "execution_count": 14,
     "metadata": {},
     "output_type": "execute_result"
    }
   ],
   "source": [
    "# Mise en place des différents datasets\n",
    "X_train = D.data['X_train']\n",
    "y_train = D.data['Y_train']\n",
    "X_valid = D.data['X_valid']\n",
    "X_test = D.data['X_test']\n",
    "\n",
    "# Statistiques sur les données\n",
    "print(\"Proportion des labels : \")\n",
    "print(sum(y)*1.0/len(y))\n",
    "X_array = X.toarray()\n",
    "df = pd.DataFrame(X_array)\n",
    "df.head(5)"
   ]
  },
  {
   "cell_type": "code",
   "execution_count": null,
   "metadata": {
    "collapsed": false
   },
   "outputs": [],
   "source": [
    "#df.describe() "
   ]
  },
  {
   "cell_type": "markdown",
   "metadata": {},
   "source": [
    "## Building a predictive model"
   ]
  },
  {
   "cell_type": "markdown",
   "metadata": {},
   "source": [
    "The initial classifier in your starting kit (in the sample_code directory)."
   ]
  },
  {
   "cell_type": "code",
   "execution_count": 12,
   "metadata": {
    "collapsed": false
   },
   "outputs": [],
   "source": [
    "import classifier\n",
    "reload(classifier)                               # If you make changes to your code you have to reload it\n",
    "from classifier import Classifier\n",
    "Classifier??"
   ]
  },
  {
   "cell_type": "markdown",
   "metadata": {},
   "source": [
    "Train, run, and save your classifier and your predictions. If you saved a trained model and/or prediction results, the evaluation script will look for those and use those in priority [(1) use saved predictions; (2) if no predictions, use saved model, do not retrain, just test; (3) if neither, train and test model from scratch]. Compute the predictions with predict_proba, this is more versatile."
   ]
  },
  {
   "cell_type": "code",
   "execution_count": 15,
   "metadata": {
    "collapsed": false
   },
   "outputs": [
    {
     "name": "stdout",
     "output_type": "stream",
     "text": [
      "res/movies_model.pickle  res/movies_test.predict  res/movies_valid.predict\r\n"
     ]
    }
   ],
   "source": [
    "result_dir = 'res/'\n",
    "outname = result_dir + dataname\n",
    "clf = Classifier()\n",
    "clf.fit(X_train, y_train)\n",
    "Y_valid = clf.predict(X_valid) \n",
    "Y_test = clf.predict(X_train) \n",
    "clf.save(outname)\n",
    "#clf.load(outname) # Uncomment to check reloading works\n",
    "data_io.write(outname + '_valid.predict', Y_valid)\n",
    "data_io.write(outname + '_test.predict', Y_test)\n",
    "!ls $outname*"
   ]
  },
  {
   "cell_type": "markdown",
   "metadata": {},
   "source": [
    "Compute the training accuracy."
   ]
  },
  {
   "cell_type": "code",
   "execution_count": 21,
   "metadata": {
    "collapsed": false
   },
   "outputs": [
    {
     "name": "stdout",
     "output_type": "stream",
     "text": [
      "Training f1 score =  0.825409040903\n",
      "Class labels= [ 0  1  2  3  4  5  6  7  8  9 10 11 12 13]\n"
     ]
    }
   ],
   "source": [
    "from sklearn.metrics import f1_score\n",
    "# Directly predicts the (categorical) class labels\n",
    "y_predict = clf.predict(X_train)                   \n",
    "print 'Training f1 score = ', f1_score(y_train, y_predict, average = 'weighted')\n",
    "class_labels = clf.get_classes()     \n",
    "print 'Class labels=', class_labels"
   ]
  },
  {
   "cell_type": "markdown",
   "metadata": {},
   "source": [
    "Compute cross-validation accuracy. This is usually worse than the training accuracy. Notice that we internally split the training data into training and validation set (this is because we do NOT have the labels of X_valid and X_test)."
   ]
  },
  {
   "cell_type": "code",
   "execution_count": 19,
   "metadata": {
    "collapsed": false
   },
   "outputs": [
    {
     "name": "stdout",
     "output_type": "stream",
     "text": [
      "Fold 1 validation f1 score =  0.827925985292\n",
      "Fold 2 validation f1 score =  0.826761998461\n"
     ]
    }
   ],
   "source": [
    "from sklearn.cross_validation import StratifiedShuffleSplit\n",
    "# This is just an example of 2-fold cross-validation\n",
    "skf = StratifiedShuffleSplit(y_train, n_iter=2, test_size=0.5, random_state=61)\n",
    "i=0\n",
    "for idx_t, idx_v in skf:\n",
    "    i=i+1\n",
    "    Xtr = X_train[idx_t]\n",
    "    Ytr = y_train[idx_t]\n",
    "    Xva = X_train[idx_v]\n",
    "    Yva = y_train[idx_v]\n",
    "    clf = Classifier()\n",
    "    clf.fit(Xtr, Ytr)\n",
    "    Y_predict = clf.predict(Xva)\n",
    "    print 'Fold', i, 'validation f1 score = ', f1_score(Y_predict, Yva, average = 'weighted')"
   ]
  },
  {
   "cell_type": "markdown",
   "metadata": {},
   "source": [
    "ADVANCED: Sklearn does not have multi-class metrics, this shows how libscore metrics work."
   ]
  },
  {
   "cell_type": "markdown",
   "metadata": {},
   "source": [
    "## Unit testing"
   ]
  },
  {
   "cell_type": "markdown",
   "metadata": {},
   "source": [
    "It is <b><span style=\"color:red\">important that you test your submission files before submitting them</span></b>. All you have to do to make a submission is modify the file <code>classifier.py</code> in the <code>sample_code/</code> directory, then run this test to make sure everything works fine. This is the actual program that will be run on the server to test your submission.  The program looks for saved results and saved models in the subdirectory <code>res/</code>. If it finds them, it will use them: (1) If results are found, then are copied to the output directory; (2) If no results but a trained model is found, it is reloaded and no training occurs; (3) If nothing is found a fresh model is trained and tested."
   ]
  },
  {
   "cell_type": "code",
   "execution_count": 25,
   "metadata": {
    "collapsed": false,
    "scrolled": true
   },
   "outputs": [],
   "source": [
    "outdir = '../outputs'         # If you use result_dir as output directory, your submission will include your results"
   ]
  },
  {
   "cell_type": "code",
   "execution_count": 26,
   "metadata": {
    "collapsed": false,
    "scrolled": true
   },
   "outputs": [
    {
     "name": "stdout",
     "output_type": "stream",
     "text": [
      "Using input_dir: input_data_1_2/\n",
      "Using output_dir: /Users/guillaumelorre/Desktop/outputs\n",
      "************************************************************************\n",
      "****** Attempting to copy files (from res/) for RESULT submission ******\n",
      "************************************************************************\n",
      "[+] Movies copied\n",
      "[+] Results copied to output directory, no model trained/tested\n",
      "========= Zipping this directory to prepare for submit ==============\n",
      "See: ../sample_submission_16-11-30-16-42.zip\n",
      "[+] Done\n",
      "[+] Overall time spent 30.74 sec ::  Overall time budget  0.00 sec\n"
     ]
    }
   ],
   "source": [
    "!python run.py $datadir $outdir"
   ]
  },
  {
   "cell_type": "markdown",
   "metadata": {
    "collapsed": true
   },
   "source": [
    "## Making your submission\n",
    "\n",
    "The test program <code>run.py</code> prepares your <code>zip</code> file, ready to go. You find it in the directory above where you ran your program. For large datasets, we recommend that <b><span style=\"color:red\">you do NOT bundle the data with your submission</span></b>. The data directory is passed as an argument to run.py, and it is already there on the test server."
   ]
  },
  {
   "cell_type": "code",
   "execution_count": null,
   "metadata": {
    "collapsed": true
   },
   "outputs": [],
   "source": []
  }
 ],
 "metadata": {
  "anaconda-cloud": {},
  "kernelspec": {
   "display_name": "Python [default]",
   "language": "python",
   "name": "python2"
  },
  "language_info": {
   "codemirror_mode": {
    "name": "ipython",
    "version": 2
   },
   "file_extension": ".py",
   "mimetype": "text/x-python",
   "name": "python",
   "nbconvert_exporter": "python",
   "pygments_lexer": "ipython2",
   "version": "2.7.13"
  }
 },
 "nbformat": 4,
 "nbformat_minor": 0
}
