{
 "cells": [
  {
   "cell_type": "code",
   "execution_count": 137,
   "metadata": {
    "collapsed": false
   },
   "outputs": [],
   "source": [
    "import pandas as pd\n",
    "from sklearn.ensemble import RandomForestClassifier\n",
    "from sklearn.model_selection import train_test_split\n",
    "import pickle\n",
    "import nltk\n",
    "from nltk import *\n",
    "from sklearn import tree\n",
    "from sklearn.multiclass import OneVsRestClassifier\n",
    "from sklearn.svm import SVC\n",
    "from sklearn.svm import LinearSVC\n",
    "from sklearn.naive_bayes import GaussianNB\n",
    "from sklearn.naive_bayes import MultinomialNB\n",
    "from sklearn.kernel_approximation import RBFSampler\n",
    "from sklearn.preprocessing import MultiLabelBinarizer\n",
    "from sklearn.metrics import accuracy_score, hamming_loss\n",
    "from sklearn.metrics import f1_score, classification_report\n",
    "from sklearn.multiclass import OneVsRestClassifier\n",
    "from sklearn.svm import SVC\n",
    "from sklearn.svm import LinearSVC\n",
    "from sklearn.ensemble import AdaBoostClassifier\n",
    "from sklearn.feature_extraction.text import CountVectorizer\n",
    "from nltk.corpus import stopwords\n",
    "import string\n",
    "from sklearn.feature_extraction.text import TfidfVectorizer\n",
    "from sklearn.feature_extraction.text import TfidfTransformer\n",
    "from sklearn.pipeline import Pipeline\n",
    "from sklearn.linear_model import SGDClassifier\n",
    "from sklearn.linear_model import Perceptron\n",
    "from sklearn.linear_model import PassiveAggressiveClassifier\n",
    "from sklearn.naive_bayes import BernoulliNB, MultinomialNB\n",
    "from sklearn.neighbors import KNeighborsClassifier\n",
    "from sklearn.neighbors import NearestCentroid\n",
    "from sklearn.linear_model import RidgeClassifier\n",
    "from sklearn.neural_network import MLPClassifier\n",
    "from time import time\n",
    "import numpy as np\n",
    "import matplotlib.pyplot as plt\n",
    "from numpy import random\n",
    "\n",
    "def pickle_file(filename, obj):\n",
    "    with open('dumps/' + filename, 'wb') as f:\n",
    "        pickle.dump(obj, f)\n",
    "\n",
    "\n",
    "def unpickle_file(filename):\n",
    "    with open('dumps/' + filename, 'rb') as f:\n",
    "        return pickle.load(f)\n",
    "    \n",
    "def preprocess(text):\n",
    "# Remove punctuation, stopword and then stemmering\n",
    "    stop = set(stopwords.words(\"english\"))\n",
    "    stemmer = stem.PorterStemmer()\n",
    "    punctuation = set(string.punctuation)\n",
    "\n",
    "    doc = [stemmer.stem(word) for word in nltk.word_tokenize(text) if (word not in punctuation) and (word not in stop)]\n",
    "\n",
    "    doc = ' '.join(w for w in doc)\n",
    "    return doc\n",
    "\n",
    "def hamming_score(y_true, y_pred, normalize=True, sample_weight=None):\n",
    "    '''\n",
    "    Compute the Hamming score (a.k.a. label-based accuracy) for the multi-label case\n",
    "    http://stackoverflow.com/q/32239577/395857\n",
    "    '''\n",
    "    acc_list = []\n",
    "    for i in range(y_true.shape[0]):\n",
    "        set_true = set( np.where(y_true[i])[0] )\n",
    "        set_pred = set( np.where(y_pred[i])[0] )\n",
    "        tmp_a = None\n",
    "        if len(set_true) == 0 and len(set_pred) == 0:\n",
    "            tmp_a = 1\n",
    "        else:\n",
    "            tmp_a = len(set_true.intersection(set_pred))/\\\n",
    "                    float( len(set_true.union(set_pred)) )\n",
    "        #print('tmp_a: {0}'.format(tmp_a))\n",
    "        acc_list.append(tmp_a)\n",
    "    return np.mean(acc_list)\n",
    "    "
   ]
  },
  {
   "cell_type": "code",
   "execution_count": 17,
   "metadata": {
    "collapsed": false
   },
   "outputs": [],
   "source": [
    "data_train = pd.read_csv('data_train.csv', encoding='utf-8')\n",
    "\n",
    "data_train[\"Summary\"] = data_train[\"Summary\"].apply(preprocess)\n",
    "\n",
    "summaries_train = data_train['Summary'].as_matrix()\n",
    "\n",
    "ydf = data_train.drop('Summary', axis = 1)\n",
    "ydf = ydf.drop(ydf.columns[0], axis = 1)\n",
    "ydf = ydf.drop(ydf.columns[0], axis = 1)\n",
    "ydf = ydf.as_matrix()\n",
    "\n",
    "tfidfVect = TfidfVectorizer()\n",
    "tfidf = tfidfVect.fit_transform(summaries_train)\n",
    "\n",
    "pickle_file('tfidf.dat', tfidf)\n",
    "pickle_file('tfidf_vocab.dat', tfidfVect.vocabulary_)\n",
    "pickle_file('ydf.dat', ydf)\n",
    "\n"
   ]
  },
  {
   "cell_type": "code",
   "execution_count": 3,
   "metadata": {
    "collapsed": false
   },
   "outputs": [],
   "source": [
    "tfidf_vocab = TfidfVectorizer(decode_error=\"replace\",vocabulary=unpickle_file('tfidf_vocab.dat'))\n",
    "tfidf_train = unpickle_file('tfidf.dat')\n",
    "ydf = unpickle_file('ydf.dat')\n",
    "X_train = tfidf_train\n",
    "y_train = ydf"
   ]
  },
  {
   "cell_type": "code",
   "execution_count": 1,
   "metadata": {
    "collapsed": true
   },
   "outputs": [],
   "source": [
    "def train_linear_svc(features_train, labels_train):\n",
    "    print (\"Training linear SVC\")\n",
    "    clf = LinearSVC(C=1, dual=True, class_weight='balanced')\n",
    "    clf = OneVsRestClassifier(clf).fit(features_train, labels_train)\n",
    "    return clf\n",
    "\n",
    "\n",
    "def train_randomForest(features_train, labels_train):\n",
    "    print (\"Training random forest\")\n",
    "    clf = RandomForestClassifier(n_estimators=70, max_depth=70)\n",
    "    clf = OneVsRestClassifier(clf).fit(features_train, labels_train)\n",
    "    return clf\n",
    "\n",
    "def train_decisionTree(features_train, labels_train):\n",
    "    print (\"Training decision tree\")\n",
    "    clf = tree.DecisionTreeClassifier()\n",
    "    clf = OneVsRestClassifier(clf).fit(features_train, labels_train)\n",
    "    return clf\n",
    "\n",
    "def train_adaboost_decision_tree(features_train, labels_train):\n",
    "    print (\"Training adaboost decision tree\")\n",
    "    clf = AdaBoostClassifier( tree.DecisionTreeClassifier(max_depth=5),\n",
    "                              n_estimators=600,\n",
    "                              learning_rate=1)\n",
    "    clf = OneVsRestClassifier(clf).fit(features_train, labels_train)\n",
    "    return clf\n",
    "\n",
    "def train_SGD_l1(features_train, labels_train):\n",
    "    print (\"Training SGD l1\")\n",
    "    clf = SGDClassifier(alpha=.0001, n_iter=50, penalty=\"l1\")\n",
    "    clf = OneVsRestClassifier(clf).fit(features_train, labels_train)\n",
    "    return clf\n",
    "                        \n",
    "def train_SGD_l2(features_train, labels_train):\n",
    "    print (\"Training SGD l2\")\n",
    "    clf = SGDClassifier(alpha=.0001, n_iter=50, penalty=\"l2\")\n",
    "    clf = OneVsRestClassifier(clf).fit(features_train, labels_train)\n",
    "    return clf\n",
    "\n",
    "def train_SGD_elasticnet(features_train, labels_train):\n",
    "    print (\"Training SGD elascticnet\")\n",
    "    clf = SGDClassifier(alpha=.0001, n_iter=50, penalty=\"elasticnet\")\n",
    "    clf = OneVsRestClassifier(clf).fit(features_train, labels_train)\n",
    "    return clf\n",
    "\n",
    "def train_PassiveAggressiveClassifier(features_train, labels_train):\n",
    "    print (\"Training PassiveAggressiveClassifier\")\n",
    "    clf = PassiveAggressiveClassifier(n_iter=50)\n",
    "    clf = OneVsRestClassifier(clf).fit(features_train, labels_train)\n",
    "    return clf\n",
    "\n",
    "def train_RidgeClassifier(features_train, labels_train):\n",
    "    print (\"Training RidgeClassifier\")\n",
    "    clf = RidgeClassifier(tol=1e-2, solver=\"sag\")\n",
    "    clf = OneVsRestClassifier(clf).fit(features_train, labels_train)\n",
    "    return clf\n",
    "\n",
    "def train_KNeighborsClassifier(features_train, labels_train):\n",
    "    print (\"Training KNeighborsClassifier\")\n",
    "    clf = KNeighborsClassifier(n_neighbors=10)\n",
    "    clf = OneVsRestClassifier(clf).fit(features_train, labels_train)\n",
    "    return clf\n",
    "\n",
    "def train_MultinomialNB(features_train, labels_train):\n",
    "    print (\"Training MultinomialNB\")\n",
    "    clf = MultinomialNB(alpha=.01)\n",
    "    clf = OneVsRestClassifier(clf).fit(features_train, labels_train)\n",
    "    return clf\n",
    "\n",
    "def train_BernoulliNB(features_train, labels_train):\n",
    "    print (\"Training BernoulliNB\")\n",
    "    clf = BernoulliNB(alpha=.01)\n",
    "    clf = OneVsRestClassifier(clf).fit(features_train, labels_train)\n",
    "    return clf\n",
    "\n",
    "def train_MLP(features_train, labels_train):\n",
    "    print (\"Training MLP\")\n",
    "    clf = MLPClassifier(random_state=0, max_iter=400)\n",
    "    clf = OneVsRestClassifier(clf).fit(features_train, labels_train)\n",
    "    return clf\n",
    "\n",
    "def train_NearestCentroid(features_train, labels_train):\n",
    "    print (\"Training NearestCentroid\")\n",
    "    clf = NearestCentroid()\n",
    "    clf = OneVsRestClassifier(clf).fit(features_train, labels_train)\n",
    "    return clf\n",
    "                        "
   ]
  },
  {
   "cell_type": "code",
   "execution_count": 24,
   "metadata": {
    "collapsed": false
   },
   "outputs": [],
   "source": [
    "data_test = pd.read_csv('data_test.csv', encoding='utf-8')\n",
    "\n",
    "data_test[\"Summary\"] = data_test[\"Summary\"].apply(preprocess)\n",
    "\n",
    "summaries_test = data_test['Summary'].as_matrix()\n",
    "\n",
    "transformer = TfidfTransformer()\n",
    "tfidf_test = transformer.fit_transform(tfidf_vocab.fit_transform(summaries_test))\n",
    "pickle_file('tfidf_test.dat', tfidf_test)\n",
    "# tfidf_test = unpickle_file('tfidf_test.dat')\n",
    "X_test = tfidf_test\n",
    "\n",
    "\n",
    "ydf_test = pd.read_csv('labels_test.csv', encoding='utf-8')\n",
    "target_names = list(ydf_test.columns.values)\n",
    "del target_names[0]\n",
    "ydf_test = ydf_test.drop(ydf_test.columns[0], axis = 1)\n",
    "ydf_test = ydf_test.as_matrix()\n",
    "pickle_file('ydf_test.dat', ydf_test)\n",
    "# ydf_test = unpickle_file('ydf_test.dat')"
   ]
  },
  {
   "cell_type": "code",
   "execution_count": 113,
   "metadata": {
    "collapsed": false
   },
   "outputs": [],
   "source": [
    "def benchmark(clf, name):  \n",
    "    t0 = time()\n",
    "    pred = clf.predict(X_test)\n",
    "    test_time = time() - t0\n",
    "    print(\"test time:  %0.3fs\" % test_time)\n",
    "    \n",
    "    score_hamming = hamming_score(ydf_test, pred)    \n",
    "    f1_micro = f1_score(ydf_test, pred, average=\"micro\")\n",
    "    f1_macro = f1_score(ydf_test, pred, average=\"macro\")\n",
    "    f1_weighted = f1_score(ydf_test, pred, average=\"weighted\")\n",
    "    \n",
    "    print('F1-Score with micro compute: {0}'.format(f1_micro))\n",
    "    print('F1-Score with macro compute: {0}'.format(f1_macro))\n",
    "    print('F1-Score with weighted compute: {0}'.format(f1_weighted))\n",
    "    print('Hamming score: {0}'.format(score_hamming))\n",
    "    print \"\\n\"\n",
    "    print classification_report(ydf_test, pred, target_names=target_names)\n",
    "    \n",
    "   \n",
    "    return name, score_hamming, f1_micro, f1_macro, f1_weighted, test_time\n",
    "\n",
    "results = []"
   ]
  },
  {
   "cell_type": "code",
   "execution_count": 114,
   "metadata": {
    "collapsed": false
   },
   "outputs": [
    {
     "name": "stdout",
     "output_type": "stream",
     "text": [
      "test time:  0.142s\n",
      "F1-Score with micro compute: 0.547748086983\n",
      "F1-Score with macro compute: 0.485728442129\n",
      "F1-Score with weighted compute: 0.541790444623\n",
      "Hamming score: 0.436194156025\n",
      "\n",
      "\n",
      "                 precision    recall  f1-score   support\n",
      "\n",
      "          drama       0.74      0.71      0.73     11088\n",
      "         action       0.55      0.50      0.53      3786\n",
      "      adventure       0.52      0.46      0.49      3435\n",
      "      animation       0.70      0.63      0.67      1376\n",
      "          crime       0.51      0.44      0.47      2825\n",
      "        fantasy       0.46      0.31      0.37      1227\n",
      "          music       0.39      0.28      0.33      1519\n",
      "        musical       0.37      0.25      0.29      1374\n",
      "        mystery       0.36      0.25      0.30      1171\n",
      "        romance       0.47      0.36      0.41      3759\n",
      "science fiction       0.73      0.54      0.62      1313\n",
      "          sport       0.64      0.33      0.43       359\n",
      "       thriller       0.56      0.46      0.51      3883\n",
      "            war       0.67      0.43      0.52       868\n",
      "        western       0.78      0.49      0.60       612\n",
      "    family film       0.57      0.47      0.51      1790\n",
      "\n",
      "    avg / total       0.59      0.50      0.54     40385\n",
      "\n"
     ]
    }
   ],
   "source": [
    "# svm_classifier_linear = train_linear_svc(X_train, y_train)\n",
    "# pickle_file('svm_classifier_linear', svm_classifier_linear)\n",
    "svm_classifier_linear = unpickle_file('svm_classifier_linear')\n",
    "results.append(benchmark(svm_classifier_linear, 'svm_classifier_linear'))"
   ]
  },
  {
   "cell_type": "code",
   "execution_count": 116,
   "metadata": {
    "collapsed": false
   },
   "outputs": [
    {
     "name": "stdout",
     "output_type": "stream",
     "text": [
      "test time:  18.689s\n",
      "F1-Score with micro compute: 0.37411927072\n",
      "F1-Score with macro compute: 0.0819645772904\n",
      "F1-Score with weighted compute: 0.23699181649\n",
      "Hamming score: 0.338340021681\n",
      "\n",
      "\n",
      "                 precision    recall  f1-score   support\n",
      "\n",
      "          drama       0.69      0.88      0.78     11088\n",
      "         action       0.82      0.04      0.08      3786\n",
      "      adventure       0.78      0.01      0.02      3435\n",
      "      animation       0.91      0.04      0.08      1376\n",
      "          crime       1.00      0.01      0.01      2825\n",
      "        fantasy       1.00      0.00      0.00      1227\n",
      "          music       1.00      0.00      0.00      1519\n",
      "        musical       0.00      0.00      0.00      1374\n",
      "        mystery       0.00      0.00      0.00      1171\n",
      "        romance       0.67      0.00      0.00      3759\n",
      "science fiction       0.93      0.06      0.12      1313\n",
      "          sport       1.00      0.01      0.03       359\n",
      "       thriller       0.81      0.01      0.02      3883\n",
      "            war       1.00      0.01      0.01       868\n",
      "        western       0.95      0.06      0.11       612\n",
      "    family film       0.97      0.02      0.04      1790\n",
      "\n",
      "    avg / total       0.76      0.26      0.24     40385\n",
      "\n"
     ]
    }
   ],
   "source": [
    "# random_forest = train_randomForest(X_train, y_train)\n",
    "# pickle_file('random_forest', random_forest)\n",
    "random_forest = unpickle_file('random_forest')\n",
    "results.append(benchmark(random_forest, 'random_forest'))"
   ]
  },
  {
   "cell_type": "code",
   "execution_count": 117,
   "metadata": {
    "collapsed": false
   },
   "outputs": [
    {
     "name": "stdout",
     "output_type": "stream",
     "text": [
      "test time:  0.516s\n",
      "F1-Score with micro compute: 0.437199790105\n",
      "F1-Score with macro compute: 0.351268516181\n",
      "F1-Score with weighted compute: 0.423125763461\n",
      "Hamming score: 0.330791367473\n",
      "\n",
      "\n",
      "                 precision    recall  f1-score   support\n",
      "\n",
      "          drama       0.65      0.69      0.67     11088\n",
      "         action       0.45      0.36      0.40      3786\n",
      "      adventure       0.38      0.31      0.34      3435\n",
      "      animation       0.45      0.41      0.43      1376\n",
      "          crime       0.41      0.33      0.37      2825\n",
      "        fantasy       0.31      0.23      0.26      1227\n",
      "          music       0.23      0.17      0.19      1519\n",
      "        musical       0.20      0.13      0.16      1374\n",
      "        mystery       0.20      0.13      0.16      1171\n",
      "        romance       0.36      0.20      0.26      3759\n",
      "science fiction       0.53      0.50      0.52      1313\n",
      "          sport       0.36      0.27      0.31       359\n",
      "       thriller       0.43      0.28      0.34      3883\n",
      "            war       0.44      0.34      0.38       868\n",
      "        western       0.50      0.51      0.50       612\n",
      "    family film       0.34      0.30      0.32      1790\n",
      "\n",
      "    avg / total       0.46      0.40      0.42     40385\n",
      "\n"
     ]
    }
   ],
   "source": [
    "# decision_tree = train_decisionTree(X_train, y_train)\n",
    "# pickle_file('decision_tree', decision_tree)\n",
    "decision_tree = unpickle_file('decision_tree')\n",
    "results.append(benchmark(decision_tree, 'decision_tree'))"
   ]
  },
  {
   "cell_type": "code",
   "execution_count": 118,
   "metadata": {
    "collapsed": false
   },
   "outputs": [
    {
     "name": "stdout",
     "output_type": "stream",
     "text": [
      "test time:  146.931s\n",
      "F1-Score with micro compute: 0.480448455018\n",
      "F1-Score with macro compute: 0.365703422257\n",
      "F1-Score with weighted compute: 0.449378042291\n",
      "Hamming score: 0.378803262289\n",
      "\n",
      "\n",
      "                 precision    recall  f1-score   support\n",
      "\n",
      "          drama       0.70      0.73      0.71     11088\n",
      "         action       0.53      0.36      0.43      3786\n",
      "      adventure       0.51      0.32      0.39      3435\n",
      "      animation       0.71      0.38      0.50      1376\n",
      "          crime       0.56      0.29      0.39      2825\n",
      "        fantasy       0.47      0.11      0.18      1227\n",
      "          music       0.46      0.12      0.18      1519\n",
      "        musical       0.48      0.09      0.15      1374\n",
      "        mystery       0.45      0.09      0.16      1171\n",
      "        romance       0.48      0.19      0.27      3759\n",
      "science fiction       0.78      0.39      0.52      1313\n",
      "          sport       0.73      0.19      0.31       359\n",
      "       thriller       0.56      0.32      0.40      3883\n",
      "            war       0.65      0.28      0.39       868\n",
      "        western       0.82      0.40      0.54       612\n",
      "    family film       0.60      0.24      0.34      1790\n",
      "\n",
      "    avg / total       0.59      0.39      0.45     40385\n",
      "\n"
     ]
    }
   ],
   "source": [
    "# adaboost_decision_tree = train_adaboost_decision_tree(X_train, y_train)\n",
    "# pickle_file('adaboost_decision_tree', adaboost_decision_tree)\n",
    "adaboost_decision_tree = unpickle_file('adaboost_decision_tree')\n",
    "results.append(benchmark(adaboost_decision_tree, 'adaboost_decision_tree'))"
   ]
  },
  {
   "cell_type": "code",
   "execution_count": 119,
   "metadata": {
    "collapsed": false
   },
   "outputs": [
    {
     "name": "stdout",
     "output_type": "stream",
     "text": [
      "test time:  0.131s\n",
      "F1-Score with micro compute: 0.432151758516\n",
      "F1-Score with macro compute: 0.206460450617\n",
      "F1-Score with weighted compute: 0.329089859443\n",
      "Hamming score: 0.382280167184\n",
      "\n",
      "\n",
      "                 precision    recall  f1-score   support\n",
      "\n",
      "          drama       0.71      0.88      0.78     11088\n",
      "         action       0.74      0.13      0.23      3786\n",
      "      adventure       0.72      0.05      0.10      3435\n",
      "      animation       0.87      0.28      0.43      1376\n",
      "          crime       0.70      0.11      0.19      2825\n",
      "        fantasy       0.56      0.01      0.02      1227\n",
      "          music       0.25      0.00      0.00      1519\n",
      "        musical       0.33      0.00      0.00      1374\n",
      "        mystery       0.61      0.02      0.04      1171\n",
      "        romance       0.60      0.02      0.05      3759\n",
      "science fiction       0.85      0.28      0.42      1313\n",
      "          sport       0.84      0.06      0.11       359\n",
      "       thriller       0.73      0.10      0.17      3883\n",
      "            war       0.77      0.14      0.23       868\n",
      "        western       0.81      0.21      0.33       612\n",
      "    family film       0.80      0.12      0.21      1790\n",
      "\n",
      "    avg / total       0.68      0.31      0.33     40385\n",
      "\n"
     ]
    }
   ],
   "source": [
    "# SGD_l1 = train_SGD_l1(X_train, y_train)\n",
    "# pickle_file('SGD_l1.dat', SGD_l1)\n",
    "SGD_l1 = unpickle_file('SGD_l1.dat')\n",
    "results.append(benchmark(SGD_l1, 'SGD_l1'))"
   ]
  },
  {
   "cell_type": "code",
   "execution_count": 120,
   "metadata": {
    "collapsed": false
   },
   "outputs": [
    {
     "name": "stdout",
     "output_type": "stream",
     "text": [
      "test time:  0.151s\n",
      "F1-Score with micro compute: 0.475217376594\n",
      "F1-Score with macro compute: 0.29351102611\n",
      "F1-Score with weighted compute: 0.404026368884\n",
      "Hamming score: 0.406827274038\n",
      "\n",
      "\n",
      "                 precision    recall  f1-score   support\n",
      "\n",
      "          drama       0.73      0.82      0.78     11088\n",
      "         action       0.74      0.24      0.37      3786\n",
      "      adventure       0.75      0.16      0.27      3435\n",
      "      animation       0.90      0.41      0.56      1376\n",
      "          crime       0.73      0.17      0.27      2825\n",
      "        fantasy       0.78      0.06      0.10      1227\n",
      "          music       0.69      0.03      0.06      1519\n",
      "        musical       0.48      0.01      0.01      1374\n",
      "        mystery       0.77      0.03      0.05      1171\n",
      "        romance       0.69      0.07      0.13      3759\n",
      "science fiction       0.90      0.33      0.48      1313\n",
      "          sport       0.89      0.11      0.19       359\n",
      "       thriller       0.74      0.19      0.30      3883\n",
      "            war       0.87      0.24      0.38       868\n",
      "        western       0.89      0.25      0.39       612\n",
      "    family film       0.83      0.21      0.34      1790\n",
      "\n",
      "    avg / total       0.75      0.35      0.40     40385\n",
      "\n"
     ]
    }
   ],
   "source": [
    "# SGD_l2 = train_SGD_l2(X_train, y_train)\n",
    "# pickle_file('SGD_l2', SGD_l2)\n",
    "SGD_l2 = unpickle_file('SGD_l2')\n",
    "results.append(benchmark(SGD_l2, 'SGD_l2'))"
   ]
  },
  {
   "cell_type": "code",
   "execution_count": 121,
   "metadata": {
    "collapsed": false
   },
   "outputs": [
    {
     "name": "stdout",
     "output_type": "stream",
     "text": [
      "test time:  0.131s\n",
      "F1-Score with micro compute: 0.450837670084\n",
      "F1-Score with macro compute: 0.240158996613\n",
      "F1-Score with weighted compute: 0.363353960098\n",
      "Hamming score: 0.392154244739\n",
      "\n",
      "\n",
      "                 precision    recall  f1-score   support\n",
      "\n",
      "          drama       0.73      0.85      0.78     11088\n",
      "         action       0.75      0.19      0.30      3786\n",
      "      adventure       0.76      0.10      0.17      3435\n",
      "      animation       0.90      0.35      0.50      1376\n",
      "          crime       0.74      0.13      0.23      2825\n",
      "        fantasy       0.78      0.01      0.03      1227\n",
      "          music       0.76      0.01      0.02      1519\n",
      "        musical       1.00      0.00      0.00      1374\n",
      "        mystery       0.77      0.02      0.04      1171\n",
      "        romance       0.69      0.04      0.08      3759\n",
      "science fiction       0.89      0.28      0.43      1313\n",
      "          sport       0.90      0.08      0.14       359\n",
      "       thriller       0.76      0.15      0.25      3883\n",
      "            war       0.86      0.18      0.30       868\n",
      "        western       0.87      0.18      0.29       612\n",
      "    family film       0.85      0.18      0.29      1790\n",
      "\n",
      "    avg / total       0.77      0.32      0.36     40385\n",
      "\n"
     ]
    }
   ],
   "source": [
    "# SGD_elasticnet = train_SGD_elasticnet(X_train, y_train)\n",
    "# pickle_file('SGD_elasticnet', SGD_elasticnet)\n",
    "SGD_elasticnet = unpickle_file('SGD_elasticnet')\n",
    "results.append(benchmark(SGD_elasticnet, 'SGD_elasticnet'))"
   ]
  },
  {
   "cell_type": "code",
   "execution_count": 122,
   "metadata": {
    "collapsed": false
   },
   "outputs": [
    {
     "name": "stdout",
     "output_type": "stream",
     "text": [
      "test time:  0.141s\n",
      "F1-Score with micro compute: 0.508222900849\n",
      "F1-Score with macro compute: 0.442624915593\n",
      "F1-Score with weighted compute: 0.496948820326\n",
      "Hamming score: 0.399455463228\n",
      "\n",
      "\n",
      "                 precision    recall  f1-score   support\n",
      "\n",
      "          drama       0.71      0.70      0.70     11088\n",
      "         action       0.52      0.41      0.46      3786\n",
      "      adventure       0.50      0.37      0.42      3435\n",
      "      animation       0.73      0.59      0.65      1376\n",
      "          crime       0.48      0.36      0.41      2825\n",
      "        fantasy       0.48      0.25      0.33      1227\n",
      "          music       0.38      0.21      0.27      1519\n",
      "        musical       0.36      0.19      0.25      1374\n",
      "        mystery       0.34      0.18      0.23      1171\n",
      "        romance       0.42      0.30      0.35      3759\n",
      "science fiction       0.76      0.49      0.60      1313\n",
      "          sport       0.70      0.31      0.43       359\n",
      "       thriller       0.51      0.38      0.44      3883\n",
      "            war       0.67      0.37      0.48       868\n",
      "        western       0.79      0.47      0.59       612\n",
      "    family film       0.57      0.40      0.47      1790\n",
      "\n",
      "    avg / total       0.57      0.45      0.50     40385\n",
      "\n"
     ]
    }
   ],
   "source": [
    "# PassiveAggressiveClassifier = train_PassiveAggressiveClassifier(X_train, y_train)\n",
    "# pickle_file('PassiveAggressiveClassifier', PassiveAggressiveClassifier)\n",
    "PassiveAggressiveClassifier = unpickle_file('PassiveAggressiveClassifier')\n",
    "results.append(benchmark(PassiveAggressiveClassifier, 'PassiveAggressiveClassifier'))"
   ]
  },
  {
   "cell_type": "code",
   "execution_count": 123,
   "metadata": {
    "collapsed": false
   },
   "outputs": [
    {
     "name": "stdout",
     "output_type": "stream",
     "text": [
      "test time:  0.132s\n",
      "F1-Score with micro compute: 0.48360058309\n",
      "F1-Score with macro compute: 0.325053320334\n",
      "F1-Score with weighted compute: 0.429529522045\n",
      "Hamming score: 0.405206592871\n",
      "\n",
      "\n",
      "                 precision    recall  f1-score   support\n",
      "\n",
      "          drama       0.73      0.79      0.76     11088\n",
      "         action       0.70      0.26      0.38      3786\n",
      "      adventure       0.68      0.22      0.33      3435\n",
      "      animation       0.89      0.40      0.55      1376\n",
      "          crime       0.69      0.20      0.31      2825\n",
      "        fantasy       0.69      0.10      0.18      1227\n",
      "          music       0.59      0.06      0.11      1519\n",
      "        musical       0.49      0.04      0.07      1374\n",
      "        mystery       0.65      0.05      0.08      1171\n",
      "        romance       0.64      0.14      0.23      3759\n",
      "science fiction       0.90      0.33      0.48      1313\n",
      "          sport       0.88      0.13      0.22       359\n",
      "       thriller       0.69      0.23      0.34      3883\n",
      "            war       0.82      0.24      0.38       868\n",
      "        western       0.89      0.26      0.40       612\n",
      "    family film       0.81      0.24      0.37      1790\n",
      "\n",
      "    avg / total       0.71      0.36      0.43     40385\n",
      "\n"
     ]
    }
   ],
   "source": [
    "# RidgeClassifier = train_RidgeClassifier(X_train, y_train)\n",
    "# pickle_file('RidgeClassifier', RidgeClassifier)\n",
    "RidgeClassifier = unpickle_file('RidgeClassifier')\n",
    "results.append(benchmark(RidgeClassifier, 'RidgeClassifier'))"
   ]
  },
  {
   "cell_type": "code",
   "execution_count": 124,
   "metadata": {
    "collapsed": false
   },
   "outputs": [
    {
     "name": "stdout",
     "output_type": "stream",
     "text": [
      "test time:  457.406s\n",
      "F1-Score with micro compute: 0.369524688837\n",
      "F1-Score with macro compute: 0.18547164774\n",
      "F1-Score with weighted compute: 0.296399804083\n",
      "Hamming score: 0.309147206641\n",
      "\n",
      "\n",
      "                 precision    recall  f1-score   support\n",
      "\n",
      "          drama       0.67      0.70      0.68     11088\n",
      "         action       0.60      0.10      0.17      3786\n",
      "      adventure       0.60      0.09      0.15      3435\n",
      "      animation       0.82      0.35      0.49      1376\n",
      "          crime       0.55      0.05      0.09      2825\n",
      "        fantasy       0.60      0.02      0.04      1227\n",
      "          music       0.56      0.02      0.04      1519\n",
      "        musical       0.48      0.02      0.03      1374\n",
      "        mystery       0.63      0.03      0.06      1171\n",
      "        romance       0.38      0.07      0.11      3759\n",
      "science fiction       0.87      0.14      0.24      1313\n",
      "          sport       0.78      0.06      0.11       359\n",
      "       thriller       0.48      0.07      0.12      3883\n",
      "            war       0.76      0.10      0.17       868\n",
      "        western       0.77      0.07      0.12       612\n",
      "    family film       0.72      0.22      0.33      1790\n",
      "\n",
      "    avg / total       0.61      0.26      0.30     40385\n",
      "\n"
     ]
    }
   ],
   "source": [
    "# KNeighborsClassifier = train_KNeighborsClassifier(X_train, y_train)\n",
    "# pickle_file('KNeighborsClassifier', KNeighborsClassifier)\n",
    "KNeighborsClassifier = unpickle_file('KNeighborsClassifier')\n",
    "results.append(benchmark(KNeighborsClassifier, 'KNeighborsClassifier'))"
   ]
  },
  {
   "cell_type": "code",
   "execution_count": 125,
   "metadata": {
    "collapsed": false
   },
   "outputs": [
    {
     "name": "stdout",
     "output_type": "stream",
     "text": [
      "test time:  0.477s\n",
      "F1-Score with micro compute: 0.491204474943\n",
      "F1-Score with macro compute: 0.3596302038\n",
      "F1-Score with weighted compute: 0.451709673349\n",
      "Hamming score: 0.40447847877\n",
      "\n",
      "\n",
      "                 precision    recall  f1-score   support\n",
      "\n",
      "          drama       0.71      0.79      0.75     11088\n",
      "         action       0.57      0.33      0.42      3786\n",
      "      adventure       0.57      0.33      0.42      3435\n",
      "      animation       0.81      0.52      0.63      1376\n",
      "          crime       0.53      0.17      0.26      2825\n",
      "        fantasy       0.57      0.19      0.28      1227\n",
      "          music       0.34      0.12      0.17      1519\n",
      "        musical       0.32      0.12      0.17      1374\n",
      "        mystery       0.44      0.06      0.11      1171\n",
      "        romance       0.45      0.18      0.26      3759\n",
      "science fiction       0.74      0.39      0.51      1313\n",
      "          sport       0.70      0.11      0.19       359\n",
      "       thriller       0.55      0.23      0.32      3883\n",
      "            war       0.70      0.30      0.42       868\n",
      "        western       0.84      0.25      0.39       612\n",
      "    family film       0.69      0.36      0.47      1790\n",
      "\n",
      "    avg / total       0.60      0.40      0.45     40385\n",
      "\n"
     ]
    }
   ],
   "source": [
    "# MultinomialNB = train_MultinomialNB(X_train, y_train)\n",
    "# pickle_file('MultinomialNB', MultinomialNB)\n",
    "MultinomialNB = unpickle_file('MultinomialNB')\n",
    "results.append(benchmark(MultinomialNB, 'MultinomialNB'))"
   ]
  },
  {
   "cell_type": "code",
   "execution_count": 126,
   "metadata": {
    "collapsed": false
   },
   "outputs": [
    {
     "name": "stdout",
     "output_type": "stream",
     "text": [
      "test time:  0.742s\n",
      "F1-Score with micro compute: 0.560657617114\n",
      "F1-Score with macro compute: 0.473421708913\n",
      "F1-Score with weighted compute: 0.553767874972\n",
      "Hamming score: 0.444961802504\n",
      "\n",
      "\n",
      "                 precision    recall  f1-score   support\n",
      "\n",
      "          drama       0.72      0.85      0.78     11088\n",
      "         action       0.55      0.48      0.51      3786\n",
      "      adventure       0.47      0.52      0.49      3435\n",
      "      animation       0.64      0.58      0.61      1376\n",
      "          crime       0.58      0.43      0.49      2825\n",
      "        fantasy       0.31      0.46      0.37      1227\n",
      "          music       0.36      0.28      0.32      1519\n",
      "        musical       0.33      0.28      0.30      1374\n",
      "        mystery       0.38      0.27      0.32      1171\n",
      "        romance       0.48      0.54      0.51      3759\n",
      "science fiction       0.45      0.54      0.49      1313\n",
      "          sport       0.84      0.30      0.45       359\n",
      "       thriller       0.48      0.45      0.46      3883\n",
      "            war       0.64      0.48      0.55       868\n",
      "        western       0.32      0.64      0.43       612\n",
      "    family film       0.55      0.46      0.50      1790\n",
      "\n",
      "    avg / total       0.55      0.57      0.55     40385\n",
      "\n"
     ]
    }
   ],
   "source": [
    "# BernoulliNB = train_BernoulliNB(X_train, y_train)\n",
    "# pickle_file('BernoulliNB', BernoulliNB)\n",
    "BernoulliNB = unpickle_file('BernoulliNB')\n",
    "results.append(benchmark(BernoulliNB, 'BernoulliNB'))"
   ]
  },
  {
   "cell_type": "code",
   "execution_count": 127,
   "metadata": {
    "collapsed": false
   },
   "outputs": [
    {
     "name": "stdout",
     "output_type": "stream",
     "text": [
      "test time:  4.825s\n",
      "F1-Score with micro compute: 0.517804323094\n",
      "F1-Score with macro compute: 0.44055615873\n",
      "F1-Score with weighted compute: 0.502280078974\n",
      "Hamming score: 0.411214440698\n",
      "\n",
      "\n",
      "                 precision    recall  f1-score   support\n",
      "\n",
      "          drama       0.72      0.72      0.72     11088\n",
      "         action       0.54      0.41      0.47      3786\n",
      "      adventure       0.52      0.37      0.43      3435\n",
      "      animation       0.75      0.60      0.66      1376\n",
      "          crime       0.49      0.34      0.40      2825\n",
      "        fantasy       0.52      0.23      0.32      1227\n",
      "          music       0.39      0.18      0.25      1519\n",
      "        musical       0.36      0.16      0.22      1374\n",
      "        mystery       0.41      0.16      0.24      1171\n",
      "        romance       0.45      0.30      0.36      3759\n",
      "science fiction       0.77      0.48      0.59      1313\n",
      "          sport       0.69      0.23      0.35       359\n",
      "       thriller       0.54      0.38      0.45      3883\n",
      "            war       0.70      0.37      0.48       868\n",
      "        western       0.83      0.49      0.62       612\n",
      "    family film       0.62      0.41      0.49      1790\n",
      "\n",
      "    avg / total       0.59      0.45      0.50     40385\n",
      "\n"
     ]
    }
   ],
   "source": [
    "# MLP = train_MLP(X_train, y_train)\n",
    "# pickle_file('MLP', MLP)\n",
    "MLP = unpickle_file('MLP')\n",
    "results.append(benchmark(MLP, 'MLP'))"
   ]
  },
  {
   "cell_type": "code",
   "execution_count": 147,
   "metadata": {
    "collapsed": false
   },
   "outputs": [
    {
     "data": {
      "image/png": "[encoded data removed]",
      "text/plain": [
       "<matplotlib.figure.Figure at 0x1779ecf8>"
      ]
     },
     "metadata": {},
     "output_type": "display_data"
    }
   ],
   "source": [
    "%matplotlib inline\n",
    "\n",
    "indices = np.arange(len(results))\n",
    "\n",
    "results_final = [[x[i] for x in results] for i in range(6)]\n",
    "width = 0.2  \n",
    "clf_names, score_hamming,f1_micro, f1_macro, f1_weighted, test_time = results_final\n",
    "# test_time = np.array(test_time) / np.max(test_time)\n",
    "\n",
    "plt.figure(figsize=(12, 8))\n",
    "plt.title(\"Score\")\n",
    "plt.barh(indices, score_hamming, .2, label=\"score hamming\", color='red')\n",
    "plt.barh(indices + width, f1_micro, .2, label=\"score F1 micro\", color='green')\n",
    "plt.barh(indices + 2*width, f1_macro, .2, label=\"score F1 macro\", color='blue')\n",
    "plt.barh(indices + 3*width, f1_weighted, .2, label=\"score F1 weighted\", color='orange')\n",
    "# plt.barh(indices + .6, test_time, .2, label=\"test time\", color='darkorange')\n",
    "plt.yticks(())\n",
    "plt.legend(bbox_to_anchor=(1.05, 1), loc=2, borderaxespad=0.)\n",
    "plt.subplots_adjust(left=.25)\n",
    "plt.subplots_adjust(top=.95)\n",
    "plt.subplots_adjust(bottom=.05)\n",
    "\n",
    "for i, c in zip(indices, clf_names):\n",
    "    plt.text(-.3, i, c)\n",
    "\n",
    "plt.show()"
   ]
  }
 ],
 "metadata": {
  "anaconda-cloud": {},
  "kernelspec": {
   "display_name": "Python [conda env:py2]",
   "language": "python",
   "name": "conda-env-py2-py"
  },
  "language_info": {
   "codemirror_mode": {
    "name": "ipython",
    "version": 2
   },
   "file_extension": ".py",
   "mimetype": "text/x-python",
   "name": "python",
   "nbconvert_exporter": "python",
   "pygments_lexer": "ipython2",
   "version": "2.7.12"
  }
 },
 "nbformat": 4,
 "nbformat_minor": 1
}
