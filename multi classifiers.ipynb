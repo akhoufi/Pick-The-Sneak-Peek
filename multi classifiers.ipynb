{
 "cells": [
  {
   "cell_type": "code",
   "execution_count": 1,
   "metadata": {
    "collapsed": false
   },
   "outputs": [],
   "source": [
    "import pandas as pd\n",
    "from sklearn.ensemble import RandomForestClassifier\n",
    "from sklearn.model_selection import train_test_split\n",
    "import pickle\n",
    "import nltk\n",
    "from nltk import *\n",
    "from sklearn import tree\n",
    "from sklearn.multiclass import OneVsRestClassifier\n",
    "from sklearn.svm import SVC\n",
    "from sklearn.svm import LinearSVC\n",
    "from sklearn.naive_bayes import GaussianNB\n",
    "from sklearn.naive_bayes import MultinomialNB\n",
    "from sklearn.kernel_approximation import RBFSampler\n",
    "from sklearn.preprocessing import MultiLabelBinarizer\n",
    "from sklearn.metrics import accuracy_score\n",
    "from sklearn.metrics import f1_score, classification_report\n",
    "from sklearn.multiclass import OneVsRestClassifier\n",
    "from sklearn.svm import SVC\n",
    "from sklearn.svm import LinearSVC\n",
    "from sklearn.ensemble import AdaBoostClassifier\n",
    "from sklearn.feature_extraction.text import CountVectorizer\n",
    "from nltk.corpus import stopwords\n",
    "import string\n",
    "from sklearn.feature_extraction.text import TfidfVectorizer\n",
    "from sklearn.feature_extraction.text import TfidfTransformer\n",
    "from sklearn.pipeline import Pipeline\n",
    "\n",
    "def pickle_file(filename, obj):\n",
    "    with open('dumps/' + filename, 'wb') as f:\n",
    "        pickle.dump(obj, f)\n",
    "\n",
    "\n",
    "def unpickle_file(filename):\n",
    "    with open('dumps/' + filename, 'rb') as f:\n",
    "        return pickle.load(f)\n",
    "    \n",
    "def print_classification_report(true, pred):\n",
    "    print(classification_report(true, pred))\n",
    "    "
   ]
  },
  {
   "cell_type": "code",
   "execution_count": 17,
   "metadata": {
    "collapsed": false
   },
   "outputs": [],
   "source": [
    "def preprocess(text):\n",
    "# Remove punctuation, stopword and then stemmering\n",
    "    stop = set(stopwords.words(\"english\"))\n",
    "    stemmer = stem.PorterStemmer()\n",
    "    punctuation = set(string.punctuation)\n",
    "\n",
    "    doc = [stemmer.stem(word) for word in nltk.word_tokenize(text) if (word not in punctuation) and (word not in stop)]\n",
    "\n",
    "    doc = ' '.join(w for w in doc)\n",
    "    return doc\n",
    "\n",
    "data_train = pd.read_csv('data_train.csv', encoding='utf-8')\n",
    "\n",
    "data_train[\"Summary\"] = data_train[\"Summary\"].apply(preprocess)\n",
    "\n",
    "summaries_train = data_train['Summary'].as_matrix()\n",
    "\n",
    "ydf = data_train.drop('Summary', axis = 1)\n",
    "ydf = ydf.drop(ydf.columns[0], axis = 1)\n",
    "ydf = ydf.drop(ydf.columns[0], axis = 1)\n",
    "ydf = ydf.as_matrix()\n",
    "\n",
    "tfidfVect = TfidfVectorizer()\n",
    "tfidf = tfidfVect.fit_transform(summaries_train)\n",
    "\n",
    "pickle_file('tfidf.dat', tfidf)\n",
    "pickle_file('tfidf_vocab.dat', tfidfVect.vocabulary_)\n",
    "pickle_file('ydf.dat', ydf)\n",
    "\n"
   ]
  },
  {
   "cell_type": "code",
   "execution_count": 18,
   "metadata": {
    "collapsed": false
   },
   "outputs": [],
   "source": [
    "tfidf_vocab = TfidfVectorizer(decode_error=\"replace\",vocabulary=unpickle_file('tfidf_vocab.dat'))\n",
    "tfidf_train = unpickle_file('tfidf.dat')\n",
    "ydf = unpickle_file('ydf.dat')\n",
    "X_train = tfidf_train\n",
    "y_train = ydf"
   ]
  },
  {
   "cell_type": "code",
   "execution_count": 19,
   "metadata": {
    "collapsed": true
   },
   "outputs": [],
   "source": [
    "def train_linear_svc(features_train, labels_train):\n",
    "    print (\"Training linear SVC\")\n",
    "    clf = LinearSVC(C=1, dual=True, class_weight='balanced')\n",
    "    clf = OneVsRestClassifier(clf).fit(features_train, labels_train)\n",
    "    return clf\n",
    "\n",
    "\n",
    "def train_randomForest(features_train, labels_train):\n",
    "    print (\"Training random forest\")\n",
    "    clf = RandomForestClassifier(n_estimators=70, max_depth=70)\n",
    "    clf = OneVsRestClassifier(clf).fit(features_train, labels_train)\n",
    "    return clf\n",
    "\n",
    "def train_decisionTree(features_train, labels_train):\n",
    "    print (\"Training decision tree\")\n",
    "    clf = tree.DecisionTreeClassifier()\n",
    "    clf = OneVsRestClassifier(clf).fit(features_train, labels_train)\n",
    "    return clf\n",
    "\n",
    "def train_adaboost_decision_tree(features_train, labels_train):\n",
    "    print (\"Training adaboost decision tree\")\n",
    "    clf = AdaBoostClassifier( tree.DecisionTreeClassifier(max_depth=2),\n",
    "                              n_estimators=600,\n",
    "                              learning_rate=1)\n",
    "    clf = OneVsRestClassifier(clf).fit(features_train, labels_train)\n",
    "    return clf"
   ]
  },
  {
   "cell_type": "code",
   "execution_count": 32,
   "metadata": {
    "collapsed": false
   },
   "outputs": [],
   "source": [
    "data_test = pd.read_csv('data_test.csv', encoding='utf-8')\n",
    "\n",
    "data_test[\"Summary\"] = data_test[\"Summary\"].apply(preprocess)\n",
    "\n",
    "summaries_test = data_test['Summary'].as_matrix()\n",
    "\n",
    "transformer = TfidfTransformer()\n",
    "tfidf_test = transformer.fit_transform(tfidf_vocab.fit_transform(summaries_test))\n",
    "pickle_file('tfidf_test.dat', tfidf)\n",
    "X_test = tfidf_test\n",
    "\n",
    "\n",
    "ydf_test = pd.read_csv('labels_test.csv', encoding='utf-8')\n",
    "ydf_test = ydf_test.drop(ydf_test.columns[0], axis = 1)\n",
    "ydf_test = ydf_test.as_matrix()"
   ]
  },
  {
   "cell_type": "code",
   "execution_count": 35,
   "metadata": {
    "collapsed": false
   },
   "outputs": [
    {
     "name": "stdout",
     "output_type": "stream",
     "text": [
      "Training linear SVC\n",
      "             precision    recall  f1-score   support\n",
      "\n",
      "          0       0.74      0.71      0.73     11088\n",
      "          1       0.55      0.50      0.53      3786\n",
      "          2       0.52      0.46      0.49      3435\n",
      "          3       0.70      0.63      0.67      1376\n",
      "          4       0.51      0.44      0.47      2825\n",
      "          5       0.46      0.31      0.37      1227\n",
      "          6       0.39      0.28      0.33      1519\n",
      "          7       0.37      0.25      0.29      1374\n",
      "          8       0.36      0.25      0.30      1171\n",
      "          9       0.47      0.36      0.41      3759\n",
      "         10       0.73      0.54      0.62      1313\n",
      "         11       0.64      0.33      0.43       359\n",
      "         12       0.56      0.46      0.51      3883\n",
      "         13       0.67      0.43      0.52       868\n",
      "         14       0.78      0.49      0.60       612\n",
      "         15       0.57      0.47      0.51      1790\n",
      "\n",
      "avg / total       0.59      0.50      0.54     40385\n",
      "\n"
     ]
    }
   ],
   "source": [
    "svm_classifier_linear = train_linear_svc(X_train, y_train)\n",
    "pickle_file('svm_classifier_linear', svm_classifier_linear)\n",
    "#svm_classifier_linear = unpickle_file('svm_classifier_linear')\n",
    "labels_pred = svm_classifier_linear.predict(X_test)\n",
    "print_classification_report(ydf_test, labels_pred)"
   ]
  },
  {
   "cell_type": "code",
   "execution_count": 37,
   "metadata": {
    "collapsed": false
   },
   "outputs": [
    {
     "name": "stdout",
     "output_type": "stream",
     "text": [
      "Training random forest\n",
      "             precision    recall  f1-score   support\n",
      "\n",
      "          0       0.69      0.88      0.78     11088\n",
      "          1       0.82      0.04      0.08      3786\n",
      "          2       0.78      0.01      0.02      3435\n",
      "          3       0.91      0.04      0.08      1376\n",
      "          4       1.00      0.01      0.01      2825\n",
      "          5       1.00      0.00      0.00      1227\n",
      "          6       1.00      0.00      0.00      1519\n",
      "          7       0.00      0.00      0.00      1374\n",
      "          8       0.00      0.00      0.00      1171\n",
      "          9       0.67      0.00      0.00      3759\n",
      "         10       0.93      0.06      0.12      1313\n",
      "         11       1.00      0.01      0.03       359\n",
      "         12       0.81      0.01      0.02      3883\n",
      "         13       1.00      0.01      0.01       868\n",
      "         14       0.95      0.06      0.11       612\n",
      "         15       0.97      0.02      0.04      1790\n",
      "\n",
      "avg / total       0.76      0.26      0.24     40385\n",
      "\n"
     ]
    },
    {
     "name": "stderr",
     "output_type": "stream",
     "text": [
      "C:\\Users\\Gabriel\\Anaconda3\\envs\\py2\\lib\\site-packages\\sklearn\\metrics\\classification.py:1113: UndefinedMetricWarning: Precision and F-score are ill-defined and being set to 0.0 in labels with no predicted samples.\n",
      "  'precision', 'predicted', average, warn_for)\n"
     ]
    }
   ],
   "source": [
    "random_forest = train_randomForest(X_train, y_train)\n",
    "pickle_file('random_forest', random_forest)\n",
    "labels_pred = random_forest.predict(X_test)\n",
    "print_classification_report(ydf_test, labels_pred)"
   ]
  },
  {
   "cell_type": "code",
   "execution_count": 38,
   "metadata": {
    "collapsed": false
   },
   "outputs": [
    {
     "name": "stdout",
     "output_type": "stream",
     "text": [
      "Training decision tree\n",
      "             precision    recall  f1-score   support\n",
      "\n",
      "          0       0.65      0.69      0.67     11088\n",
      "          1       0.45      0.36      0.40      3786\n",
      "          2       0.38      0.31      0.34      3435\n",
      "          3       0.45      0.41      0.43      1376\n",
      "          4       0.41      0.33      0.37      2825\n",
      "          5       0.31      0.23      0.26      1227\n",
      "          6       0.23      0.17      0.19      1519\n",
      "          7       0.20      0.13      0.16      1374\n",
      "          8       0.20      0.13      0.16      1171\n",
      "          9       0.36      0.20      0.26      3759\n",
      "         10       0.53      0.50      0.52      1313\n",
      "         11       0.36      0.27      0.31       359\n",
      "         12       0.43      0.28      0.34      3883\n",
      "         13       0.44      0.34      0.38       868\n",
      "         14       0.50      0.51      0.50       612\n",
      "         15       0.34      0.30      0.32      1790\n",
      "\n",
      "avg / total       0.46      0.40      0.42     40385\n",
      "\n"
     ]
    }
   ],
   "source": [
    "decision_tree = train_decisionTree(X_train, y_train)\n",
    "pickle_file('decision_tree', decision_tree)\n",
    "labels_pred = decision_tree.predict(X_test)\n",
    "print_classification_report(ydf_test, labels_pred)"
   ]
  },
  {
   "cell_type": "code",
   "execution_count": 39,
   "metadata": {
    "collapsed": false
   },
   "outputs": [
    {
     "name": "stdout",
     "output_type": "stream",
     "text": [
      "Training adaboost decision tree\n",
      "             precision    recall  f1-score   support\n",
      "\n",
      "          0       0.71      0.72      0.71     11088\n",
      "          1       0.54      0.42      0.47      3786\n",
      "          2       0.50      0.37      0.42      3435\n",
      "          3       0.60      0.47      0.53      1376\n",
      "          4       0.51      0.40      0.45      2825\n",
      "          5       0.38      0.24      0.29      1227\n",
      "          6       0.39      0.22      0.28      1519\n",
      "          7       0.32      0.17      0.22      1374\n",
      "          8       0.34      0.18      0.23      1171\n",
      "          9       0.46      0.28      0.35      3759\n",
      "         10       0.67      0.47      0.56      1313\n",
      "         11       0.63      0.35      0.45       359\n",
      "         12       0.56      0.40      0.47      3883\n",
      "         13       0.63      0.41      0.50       868\n",
      "         14       0.79      0.51      0.62       612\n",
      "         15       0.50      0.32      0.39      1790\n",
      "\n",
      "avg / total       0.56      0.45      0.50     40385\n",
      "\n"
     ]
    }
   ],
   "source": [
    "adaboost_decision_tree = train_adaboost_decision_tree(X_train, y_train)\n",
    "labels_pred = adaboost_decision_tree.predict(X_test)\n",
    "pickle_file('adaboost_decision_tree', adaboost_decision_tree)\n",
    "print_classification_report(ydf_test, labels_pred)"
   ]
  }
 ],
 "metadata": {
  "anaconda-cloud": {},
  "kernelspec": {
   "display_name": "Python [conda env:py2]",
   "language": "python",
   "name": "conda-env-py2-py"
  },
  "language_info": {
   "codemirror_mode": {
    "name": "ipython",
    "version": 2
   },
   "file_extension": ".py",
   "mimetype": "text/x-python",
   "name": "python",
   "nbconvert_exporter": "python",
   "pygments_lexer": "ipython2",
   "version": "2.7.12"
  }
 },
 "nbformat": 4,
 "nbformat_minor": 1
}
