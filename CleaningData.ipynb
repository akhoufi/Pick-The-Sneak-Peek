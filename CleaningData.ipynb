{
 "cells": [
  {
   "cell_type": "code",
   "execution_count": 4,
   "metadata": {
    "collapsed": false
   },
   "outputs": [
    {
     "ename": "ValueError",
     "evalue": "The truth value of a Series is ambiguous. Use a.empty, a.bool(), a.item(), a.any() or a.all().",
     "output_type": "error",
     "traceback": [
      "\u001b[1;31m---------------------------------------------------------------------------\u001b[0m",
      "\u001b[1;31mValueError\u001b[0m                                Traceback (most recent call last)",
      "\u001b[1;32m<ipython-input-4-30d7530d2dcb>\u001b[0m in \u001b[0;36m<module>\u001b[1;34m()\u001b[0m\n\u001b[0;32m     41\u001b[0m \u001b[0mdata_set\u001b[0m\u001b[1;33m[\u001b[0m\u001b[1;34m'Sum'\u001b[0m\u001b[1;33m]\u001b[0m\u001b[1;33m=\u001b[0m\u001b[0mdata_set\u001b[0m\u001b[1;33m.\u001b[0m\u001b[0msum\u001b[0m\u001b[1;33m(\u001b[0m\u001b[0maxis\u001b[0m\u001b[1;33m=\u001b[0m\u001b[1;36m1\u001b[0m\u001b[1;33m,\u001b[0m \u001b[0mnumeric_only\u001b[0m\u001b[1;33m=\u001b[0m\u001b[0mTrue\u001b[0m\u001b[1;33m)\u001b[0m\u001b[1;33m\u001b[0m\u001b[0m\n\u001b[0;32m     42\u001b[0m \u001b[0mdata_set\u001b[0m \u001b[1;33m=\u001b[0m \u001b[0mdata_set\u001b[0m\u001b[1;33m[\u001b[0m\u001b[0mdata_set\u001b[0m\u001b[1;33m[\u001b[0m\u001b[1;34m'Sum'\u001b[0m\u001b[1;33m]\u001b[0m \u001b[1;33m!=\u001b[0m \u001b[1;36m0\u001b[0m\u001b[1;33m]\u001b[0m\u001b[1;33m\u001b[0m\u001b[0m\n\u001b[1;32m---> 43\u001b[1;33m \u001b[0mdata_set\u001b[0m \u001b[1;33m=\u001b[0m \u001b[0mdata_set\u001b[0m\u001b[1;33m[\u001b[0m\u001b[1;32mnot\u001b[0m \u001b[0mdata_set\u001b[0m\u001b[1;33m[\u001b[0m\u001b[1;34m'Summary'\u001b[0m\u001b[1;33m]\u001b[0m\u001b[1;33m==\u001b[0m\u001b[1;34m\"\"\u001b[0m\u001b[1;33m]\u001b[0m\u001b[1;33m\u001b[0m\u001b[0m\n\u001b[0m\u001b[0;32m     44\u001b[0m \u001b[1;31m#test=[]\u001b[0m\u001b[1;33m\u001b[0m\u001b[1;33m\u001b[0m\u001b[0m\n\u001b[0;32m     45\u001b[0m \u001b[1;31m#test=data_set.sum(numeric_only=True)\u001b[0m\u001b[1;33m\u001b[0m\u001b[1;33m\u001b[0m\u001b[0m\n",
      "\u001b[1;32mC:\\Users\\akhou\\Anaconda2\\lib\\site-packages\\pandas\\core\\generic.pyc\u001b[0m in \u001b[0;36m__nonzero__\u001b[1;34m(self)\u001b[0m\n\u001b[0;32m    729\u001b[0m         raise ValueError(\"The truth value of a {0} is ambiguous. \"\n\u001b[0;32m    730\u001b[0m                          \u001b[1;34m\"Use a.empty, a.bool(), a.item(), a.any() or a.all().\"\u001b[0m\u001b[1;33m\u001b[0m\u001b[0m\n\u001b[1;32m--> 731\u001b[1;33m                          .format(self.__class__.__name__))\n\u001b[0m\u001b[0;32m    732\u001b[0m \u001b[1;33m\u001b[0m\u001b[0m\n\u001b[0;32m    733\u001b[0m     \u001b[0m__bool__\u001b[0m \u001b[1;33m=\u001b[0m \u001b[0m__nonzero__\u001b[0m\u001b[1;33m\u001b[0m\u001b[0m\n",
      "\u001b[1;31mValueError\u001b[0m: The truth value of a Series is ambiguous. Use a.empty, a.bool(), a.item(), a.any() or a.all()."
     ]
    }
   ],
   "source": [
    "import csv\n",
    "import pandas as pd\n",
    "\n",
    "WANTED_GENRE=[u'drama', u'action', u'adventure', u'animation',u'crime',u'fantasy',\n",
    "u'music', u'mystery', u'romance', u'science fiction',\n",
    "u'thriller', u'war', u'western',u'family film']\n",
    "\n",
    "MOVIE_METADATA_FEATURES=[\"Wikipedia movie ID\", \"Freebase movie ID\", \"Movie name\", \"Movie release date\", \"Movie box office revenue\", \"Movie runtime\", \"Movie languages\", \"Movie countries\", \"Movie genres\"]\n",
    "PLOT_SUMMARY_FEATURES=[\"Wikipedia movie ID\",\"Summary\"]\n",
    "\n",
    "DATA_SET_PRIMARY_FEATURES=[\"Movie genres\",\"Summary\"]\n",
    "DATA_SET_FEATURES_TO_DROP=[x for x in MOVIE_METADATA_FEATURES if x not in DATA_SET_PRIMARY_FEATURES]\n",
    "\n",
    "with open(\"MoviesSummaries/movie.metadata.tsv\") as movie_metadata_file:\n",
    "    movie_metadata_reader = csv.reader(movie_metadata_file, delimiter=\"\\t\") \n",
    "    movie_metadata_list=list(movie_metadata_reader)\n",
    "    movie_metadata_data_set=df = pd.DataFrame.from_records(movie_metadata_list, \n",
    "        columns=MOVIE_METADATA_FEATURES)\n",
    "with open(\"MoviesSummaries/plot_summaries.txt\") as plot_summary_file: \n",
    "    plot_summary_reader = csv.reader(plot_summary_file, delimiter=\"\\t\") \n",
    "    plot_summary_list=list(plot_summary_reader)\n",
    "    plot_summary_data_set=pd.DataFrame.from_records(plot_summary_list, \n",
    "        columns=PLOT_SUMMARY_FEATURES)\n",
    "        \n",
    "data_set=pd.merge(plot_summary_data_set,movie_metadata_data_set, on='Wikipedia movie ID')\n",
    "\n",
    "data_set.drop(DATA_SET_FEATURES_TO_DROP,axis=1, inplace=True)\n",
    "def replace_genre(genre_string):\n",
    "    genre_list=genre_string.split(\",\")\n",
    "    clean_genre_list=[]\n",
    "    for genre in genre_list:\n",
    "        genre_tuple=genre.split(':')\n",
    "        if(len(genre_tuple)>1):\n",
    "            clean_genre_list.append(genre_tuple[1])\n",
    "    return clean_genre_list\n",
    "     \n",
    "\n",
    "for genre in WANTED_GENRE:\n",
    "    data_set[genre]=data_set['Movie genres'].map(lambda x: 1 if x.lower().find(genre)!= -1 else 0)\n",
    "\n",
    "data_set['Sum']=data_set.sum(axis=1, numeric_only=True)\n",
    "data_set = data_set[data_set['Sum'] != 0]\n",
    "data_set = data_set[not data_set['Summary']==\"\"]\n",
    "#test=[]\n",
    "#test=data_set.sum(numeric_only=True)\n",
    "\n",
    "data_set.drop({'Movie genres','Sum'},axis=1, inplace=True)\n",
    "data_set.to_csv(\"Movie_Summary.csv\", sep=',', encoding='utf-8')      "
   ]
  }
 ],
 "metadata": {
  "kernelspec": {
   "display_name": "Python 2",
   "language": "python",
   "name": "python2"
  },
  "language_info": {
   "codemirror_mode": {
    "name": "ipython",
    "version": 2
   },
   "file_extension": ".py",
   "mimetype": "text/x-python",
   "name": "python",
   "nbconvert_exporter": "python",
   "pygments_lexer": "ipython2",
   "version": "2.7.11"
  }
 },
 "nbformat": 4,
 "nbformat_minor": 0
}
